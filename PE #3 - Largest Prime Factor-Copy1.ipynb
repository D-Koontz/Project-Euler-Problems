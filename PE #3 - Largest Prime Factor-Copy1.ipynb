{
 "cells": [
  {
   "cell_type": "markdown",
   "id": "c16bd936-ae25-4194-8081-b2ec14fbfd0d",
   "metadata": {},
   "source": [
    "## **Largest Prime Factor**\n",
    "### Problem 3\n",
    "<p>The prime factors of $13195$ are $5, 7, 13$ and $29$.</p>\r\n",
    "<p>What is the largest prime factor of the number $600851475143$?</\r\n",
    ">\r\n",
    " "
   ]
  },
  {
   "cell_type": "code",
   "execution_count": 16,
   "id": "8a89f4e4-43a2-4468-9c3b-7c6fd98447c0",
   "metadata": {},
   "outputs": [
    {
     "name": "stdout",
     "output_type": "stream",
     "text": [
      "6857\n"
     ]
    }
   ],
   "source": [
    "n = 600851475143\n",
    "factor = 2\n",
    "\n",
    "while factor * factor <= n:\n",
    "    if n % factor == 0:\n",
    "        n = n // factor\n",
    "    else:\n",
    "        factor += 1 if factor == 2 else 2  # After 2, check only odd numbers\n",
    "\n",
    "print(n)"
   ]
  },
  {
   "cell_type": "code",
   "execution_count": null,
   "id": "0911393d-6290-42b4-b522-0b84714b887c",
   "metadata": {},
   "outputs": [],
   "source": []
  }
 ],
 "metadata": {
  "kernelspec": {
   "display_name": "Python 3 (ipykernel)",
   "language": "python",
   "name": "python3"
  },
  "language_info": {
   "codemirror_mode": {
    "name": "ipython",
    "version": 3
   },
   "file_extension": ".py",
   "mimetype": "text/x-python",
   "name": "python",
   "nbconvert_exporter": "python",
   "pygments_lexer": "ipython3",
   "version": "3.12.4"
  }
 },
 "nbformat": 4,
 "nbformat_minor": 5
}
