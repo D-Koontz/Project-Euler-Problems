{
 "cells": [
  {
   "cell_type": "markdown",
   "id": "c16bd936-ae25-4194-8081-b2ec14fbfd0d",
   "metadata": {},
   "source": [
    "## **10001st Prime**\n",
    "### Problem 7\n",
    "<p>By listing the first six prime numbers: $2, 3, 5, 7, 11$, and $13$, we can see that the $6$th prime is $13$.</p>\r\n",
    "<p>What is the $10\\,001$st prime number?</p>\r\n",
    "\r\n",
    "/p>\r\n",
    "\r\n"
   ]
  },
  {
   "cell_type": "code",
   "execution_count": 7,
   "id": "07387f60-e135-4bf2-a4b5-e86c7872e666",
   "metadata": {},
   "outputs": [
    {
     "name": "stdout",
     "output_type": "stream",
     "text": [
      "104743\n"
     ]
    }
   ],
   "source": [
    "factor_list = []\n",
    "factor_count = 0\n",
    "n = 2  # Start checking from 2, the first prime\n",
    "\n",
    "while factor_count < 10001:\n",
    "    is_prime = True\n",
    "    factor = 2  # Reset factor for each new n\n",
    "\n",
    "    while factor * factor <= n:  # Only check up to the square root of n\n",
    "        if n % factor == 0:\n",
    "            is_prime = False\n",
    "            break\n",
    "        factor += 1\n",
    "\n",
    "    if is_prime:\n",
    "        factor_count += 1\n",
    "        factor_list.append(n)\n",
    "\n",
    "    n += 1  # Move to the next number\n",
    "\n",
    "result = factor_list[-1]\n",
    "print(result)"
   ]
  },
  {
   "cell_type": "code",
   "execution_count": null,
   "id": "a63fce00-55f8-4742-99a4-00e7e4f4d62c",
   "metadata": {},
   "outputs": [],
   "source": []
  }
 ],
 "metadata": {
  "kernelspec": {
   "display_name": "Python 3 (ipykernel)",
   "language": "python",
   "name": "python3"
  },
  "language_info": {
   "codemirror_mode": {
    "name": "ipython",
    "version": 3
   },
   "file_extension": ".py",
   "mimetype": "text/x-python",
   "name": "python",
   "nbconvert_exporter": "python",
   "pygments_lexer": "ipython3",
   "version": "3.12.4"
  }
 },
 "nbformat": 4,
 "nbformat_minor": 5
}
