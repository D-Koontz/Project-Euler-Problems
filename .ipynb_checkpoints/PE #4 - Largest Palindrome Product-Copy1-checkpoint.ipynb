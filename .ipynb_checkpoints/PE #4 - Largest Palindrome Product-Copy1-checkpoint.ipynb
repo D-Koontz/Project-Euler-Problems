{
 "cells": [
  {
   "cell_type": "markdown",
   "id": "c16bd936-ae25-4194-8081-b2ec14fbfd0d",
   "metadata": {},
   "source": [
    "## **Largest Palindrome Product**\n",
    "### Problem 4\n",
    "<p>A palindromic number reads the same both ways. The largest palindrome made from the product of two $2$-digit numbers is $9009 = 91 \\times 99$.</p>\r\n",
    "<p>Find the largest palindrome made from the product of two $3$-digit numbers.</p\n",
    ">\r\n",
    " "
   ]
  },
  {
   "cell_type": "code",
   "execution_count": 34,
   "id": "07387f60-e135-4bf2-a4b5-e86c7872e666",
   "metadata": {},
   "outputs": [
    {
     "name": "stdout",
     "output_type": "stream",
     "text": [
      "906609\n"
     ]
    }
   ],
   "source": [
    "min_val = 100\n",
    "max_val = 1000\n",
    "palindrome_list = []\n",
    "\n",
    "for i in range(min_val, max_val):\n",
    "    for j in range(i, max_val):\n",
    "        product = i * j\n",
    "        istring = str(product)\n",
    "        \n",
    "        if istring == istring[::-1]:\n",
    "            palindrome_list.append(product)\n",
    "\n",
    "print(max(palindrome_list))"
   ]
  }
 ],
 "metadata": {
  "kernelspec": {
   "display_name": "Python 3 (ipykernel)",
   "language": "python",
   "name": "python3"
  },
  "language_info": {
   "codemirror_mode": {
    "name": "ipython",
    "version": 3
   },
   "file_extension": ".py",
   "mimetype": "text/x-python",
   "name": "python",
   "nbconvert_exporter": "python",
   "pygments_lexer": "ipython3",
   "version": "3.12.4"
  }
 },
 "nbformat": 4,
 "nbformat_minor": 5
}
