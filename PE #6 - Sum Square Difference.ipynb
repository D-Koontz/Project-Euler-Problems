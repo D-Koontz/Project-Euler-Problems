{
 "cells": [
  {
   "cell_type": "markdown",
   "id": "c16bd936-ae25-4194-8081-b2ec14fbfd0d",
   "metadata": {},
   "source": [
    "## **Sum Square Difference**\n",
    "### Problem 6\n",
    "<p>The sum of the squares of the first ten natural numbers is,</p>\r\n",
    "$$1^2 + 2^2 + ... + 10^2 = 385.$$\r\n",
    "<p>The square of the sum of the first ten natural numbers is,</p>\r\n",
    "$$(1 + 2 + ... + 10)^2 = 55^2 = 3025.$$\r\n",
    "<p>Hence the difference between the sum of the squares of the first ten natural numbers and the square of the sum is $3025 - 385 = 2640$.</p>\r\n",
    "<p>Find the difference between the sum of the squares of the first one hundred natural numbers and the square of the sum.</p>\r\n",
    "\r\n",
    "/p>\r\n",
    "\r\n"
   ]
  },
  {
   "cell_type": "code",
   "execution_count": 115,
   "id": "07387f60-e135-4bf2-a4b5-e86c7872e666",
   "metadata": {},
   "outputs": [
    {
     "name": "stdout",
     "output_type": "stream",
     "text": [
      "25164150\n"
     ]
    }
   ],
   "source": [
    "import numpy as np\n",
    "\n",
    "sum_of_squares = []\n",
    "square_of_sum = []\n",
    "\n",
    "# Calculate sum of squares\n",
    "for i in range(1,101):\n",
    "    i = i * i\n",
    "    sum_of_squares.append(i)\n",
    "\n",
    "sums = sum(np.array(sum_of_squares))\n",
    "\n",
    "# Calculate square of sums\n",
    "for i in range(1,101):\n",
    "    square_of_sum.append(i)\n",
    "\n",
    "sum_square = sum(square_of_sum)**2\n",
    "\n",
    "\n",
    "result = sum_square - sums\n",
    "\n",
    "print(result)"
   ]
  },
  {
   "cell_type": "code",
   "execution_count": null,
   "id": "a63fce00-55f8-4742-99a4-00e7e4f4d62c",
   "metadata": {},
   "outputs": [],
   "source": []
  }
 ],
 "metadata": {
  "kernelspec": {
   "display_name": "Python 3 (ipykernel)",
   "language": "python",
   "name": "python3"
  },
  "language_info": {
   "codemirror_mode": {
    "name": "ipython",
    "version": 3
   },
   "file_extension": ".py",
   "mimetype": "text/x-python",
   "name": "python",
   "nbconvert_exporter": "python",
   "pygments_lexer": "ipython3",
   "version": "3.12.4"
  }
 },
 "nbformat": 4,
 "nbformat_minor": 5
}
