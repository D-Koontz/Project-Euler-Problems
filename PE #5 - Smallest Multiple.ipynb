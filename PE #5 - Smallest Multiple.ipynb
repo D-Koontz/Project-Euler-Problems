{
 "cells": [
  {
   "cell_type": "markdown",
   "id": "c16bd936-ae25-4194-8081-b2ec14fbfd0d",
   "metadata": {},
   "source": [
    "## **Smallest Multiple**\n",
    "### Problem 5\n",
    "<p>$2520$ is the smallest number that can be divided by each of the numbers from $1$ to $10$ without any remainder.</p>\r\n",
    "<p>What is the smallest positive number that is <strong class=\"tooltip\">evenly divisible<span class=\"tooltiptext\">divisible with no remainder</span></strong> by all of the numbers from $1$ to $20$?</p>\r\n",
    "\r\n",
    "\r\n",
    "\n",
    " "
   ]
  },
  {
   "cell_type": "code",
   "execution_count": null,
   "id": "07387f60-e135-4bf2-a4b5-e86c7872e666",
   "metadata": {},
   "outputs": [],
   "source": []
  },
  {
   "cell_type": "code",
   "execution_count": null,
   "id": "a63fce00-55f8-4742-99a4-00e7e4f4d62c",
   "metadata": {},
   "outputs": [],
   "source": []
  }
 ],
 "metadata": {
  "kernelspec": {
   "display_name": "Python 3 (ipykernel)",
   "language": "python",
   "name": "python3"
  },
  "language_info": {
   "codemirror_mode": {
    "name": "ipython",
    "version": 3
   },
   "file_extension": ".py",
   "mimetype": "text/x-python",
   "name": "python",
   "nbconvert_exporter": "python",
   "pygments_lexer": "ipython3",
   "version": "3.12.4"
  }
 },
 "nbformat": 4,
 "nbformat_minor": 5
}
