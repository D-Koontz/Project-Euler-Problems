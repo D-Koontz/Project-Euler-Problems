{
 "cells": [
  {
   "cell_type": "markdown",
   "id": "c16bd936-ae25-4194-8081-b2ec14fbfd0d",
   "metadata": {},
   "source": [
    "## **Special Pythagorean Triplet**\n",
    "### Problem 9\n",
    "<p>A Pythagorean triplet is a set of three natural numbers, $a \\lt b \\lt c$, for which,\r\n",
    "$$a^2 + b^2 = c^2.$$</p>\r\n",
    "<p>For example, $3^2 + 4^2 = 9 + 16 = 25 = 5^2$.</p>\r\n",
    "<p>There exists exactly one Pythagorean triplet for which $a + b + c = 1000$.<br>Find the product $abc$.</p>\r\n",
    "\r\n",
    "\r\n",
    "/p>\r\n",
    "\r\n"
   ]
  },
  {
   "cell_type": "code",
   "execution_count": 143,
   "id": "07387f60-e135-4bf2-a4b5-e86c7872e666",
   "metadata": {},
   "outputs": [
    {
     "name": "stdout",
     "output_type": "stream",
     "text": [
      "[200, 375, 425]\n",
      "31875000\n"
     ]
    }
   ],
   "source": [
    "result_list = []\n",
    "found = False\n",
    "\n",
    "for a in range(1, 1000):\n",
    "    for b in range(a + 1, 1000):\n",
    "        c = 1000 - a - b  # Since a + b + c = 1000\n",
    "        if a**2 + b**2 == c**2:\n",
    "            result_list.append(a)\n",
    "            result_list.append(b)\n",
    "            result_list.append(c)\n",
    "            found = True\n",
    "            break  # Exit the inner loop\n",
    "    if found:\n",
    "        break  # Exit the outer loop\n",
    "\n",
    "product = a * b * c\n",
    "\n",
    "print(result_list)\n",
    "print(product)"
   ]
  }
 ],
 "metadata": {
  "kernelspec": {
   "display_name": "Python 3 (ipykernel)",
   "language": "python",
   "name": "python3"
  },
  "language_info": {
   "codemirror_mode": {
    "name": "ipython",
    "version": 3
   },
   "file_extension": ".py",
   "mimetype": "text/x-python",
   "name": "python",
   "nbconvert_exporter": "python",
   "pygments_lexer": "ipython3",
   "version": "3.12.4"
  }
 },
 "nbformat": 4,
 "nbformat_minor": 5
}
