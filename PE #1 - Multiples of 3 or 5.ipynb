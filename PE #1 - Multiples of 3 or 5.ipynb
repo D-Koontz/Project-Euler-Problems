{
 "cells": [
  {
   "cell_type": "markdown",
   "id": "c16bd936-ae25-4194-8081-b2ec14fbfd0d",
   "metadata": {},
   "source": [
    "## **Multiples of 3 or 5**\n",
    "### Problem 1\n",
    "<p>If we list all the natural numbers below $10$ that are multiples of $3$ or $5$, we get $3, 5, 6$ and $9$. The sum of these multiples is $23$.</p>\r\n",
    "<p>Find the sum of all the multiples of $3$ or $5$ below $1000$.</p>   "
   ]
  },
  {
   "cell_type": "code",
   "execution_count": 13,
   "id": "8a89f4e4-43a2-4468-9c3b-7c6fd98447c0",
   "metadata": {},
   "outputs": [
    {
     "name": "stdout",
     "output_type": "stream",
     "text": [
      "233168\n"
     ]
    }
   ],
   "source": [
    "list_range = []\n",
    "\n",
    "for i in range(1,1000):\n",
    "    if i % 3 == 0 or i % 5 == 0:\n",
    "        list_range.append(i)\n",
    "\n",
    "result = sum(list_range)\n",
    "\n",
    "print(result)"
   ]
  }
 ],
 "metadata": {
  "kernelspec": {
   "display_name": "Python 3 (ipykernel)",
   "language": "python",
   "name": "python3"
  },
  "language_info": {
   "codemirror_mode": {
    "name": "ipython",
    "version": 3
   },
   "file_extension": ".py",
   "mimetype": "text/x-python",
   "name": "python",
   "nbconvert_exporter": "python",
   "pygments_lexer": "ipython3",
   "version": "3.12.4"
  }
 },
 "nbformat": 4,
 "nbformat_minor": 5
}
