{
 "cells": [
  {
   "cell_type": "markdown",
   "id": "c16bd936-ae25-4194-8081-b2ec14fbfd0d",
   "metadata": {},
   "source": [
    "## **Largest Prime Factor**\n",
    "### Problem 3\n",
    "<p>The prime factors of $13195$ are $5, 7, 13$ and $29$.</p>\r\n",
    "<p>What is the largest prime factor of the number $600851475143$?</p\n",
    "\r\n",
    ">\r\n",
    " "
   ]
  },
  {
   "cell_type": "code",
   "execution_count": 45,
   "id": "8a89f4e4-43a2-4468-9c3b-7c6fd98447c0",
   "metadata": {},
   "outputs": [
    {
     "name": "stdout",
     "output_type": "stream",
     "text": [
      "[5, 7, 13, 29, 35, 65, 91, 145, 203, 377, 455, 1015, 1885, 2639]\n"
     ]
    }
   ],
   "source": [
    "prime = 13195\n",
    "factors = []\n",
    "\n",
    "for i in range(2, prime):\n",
    "    if prime % i == 0:\n",
    "        factors.append(i)\n",
    "    continue\n",
    "\n",
    "print(factors)"
   ]
  },
  {
   "cell_type": "code",
   "execution_count": null,
   "id": "ac06f89a-8910-4399-b378-f3a52351f0cd",
   "metadata": {},
   "outputs": [],
   "source": [
    "list_range = []\n",
    "\n",
    "for i in range(1,1000):\n",
    "    if i % 3 == 0 or i % 5 == 0:\n",
    "        list_range.append(i)\n",
    "\n",
    "result = sum(list_range)\n",
    "\n",
    "print(result)"
   ]
  }
 ],
 "metadata": {
  "kernelspec": {
   "display_name": "Python 3 (ipykernel)",
   "language": "python",
   "name": "python3"
  },
  "language_info": {
   "codemirror_mode": {
    "name": "ipython",
    "version": 3
   },
   "file_extension": ".py",
   "mimetype": "text/x-python",
   "name": "python",
   "nbconvert_exporter": "python",
   "pygments_lexer": "ipython3",
   "version": "3.12.4"
  }
 },
 "nbformat": 4,
 "nbformat_minor": 5
}
