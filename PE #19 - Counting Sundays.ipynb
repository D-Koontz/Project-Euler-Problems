{
 "cells": [
  {
   "cell_type": "markdown",
   "id": "68773d2a-17b0-4ed1-bd27-9d78c7f7f87b",
   "metadata": {},
   "source": [
    "## **Sum Square Difference**\n",
    "### Problem 19\r\n",
    "<p>You are given the following information, but you may prefer to do some research for yourself.</p>\r\n",
    "<ul><li>1 Jan 1900 was a Monday.</li>\r\n",
    "<li>Thirty days has September,<br />\r\n",
    "April, June and November.<br />\r\n",
    "All the rest have thirty-one,<br />\r\n",
    "Saving February alone,<br />\r\n",
    "Which has twenty-eight, rain or shine.<br />\r\n",
    "And on leap years, twenty-nine.</li>\r\n",
    "<li>A leap year occurs on any year evenly divisible by 4, but not on a century unless it is divisible by 400.</li>\r\n",
    "</ul><p>How many Sundays fell on the first of the month during the twentieth century (1 Jan 1901 to 31 Dec 2000)?</p>\r\n",
    "\n"
   ]
  },
  {
   "cell_type": "code",
   "execution_count": 60,
   "id": "1d7f1165-d888-4c9e-9097-e175fb25a7da",
   "metadata": {},
   "outputs": [
    {
     "ename": "ImportError",
     "evalue": "cannot import name 'dataframe' from 'pandas' (C:\\Users\\drewr\\anaconda3\\Lib\\site-packages\\pandas\\__init__.py)",
     "output_type": "error",
     "traceback": [
      "\u001b[1;31m---------------------------------------------------------------------------\u001b[0m",
      "\u001b[1;31mImportError\u001b[0m                               Traceback (most recent call last)",
      "Cell \u001b[1;32mIn[60], line 2\u001b[0m\n\u001b[0;32m      1\u001b[0m \u001b[38;5;28;01mimport\u001b[39;00m \u001b[38;5;21;01mpandas\u001b[39;00m\n\u001b[1;32m----> 2\u001b[0m \u001b[38;5;28;01mfrom\u001b[39;00m \u001b[38;5;21;01mpandas\u001b[39;00m \u001b[38;5;28;01mimport\u001b[39;00m dataframe \u001b[38;5;28;01mas\u001b[39;00m df\n\u001b[0;32m      3\u001b[0m \u001b[38;5;28;01mfrom\u001b[39;00m \u001b[38;5;21;01mdatetime\u001b[39;00m \u001b[38;5;28;01mimport\u001b[39;00m date, timedelta\n\u001b[0;32m      5\u001b[0m filtered_dates \u001b[38;5;241m=\u001b[39m []\n",
      "\u001b[1;31mImportError\u001b[0m: cannot import name 'dataframe' from 'pandas' (C:\\Users\\drewr\\anaconda3\\Lib\\site-packages\\pandas\\__init__.py)"
     ]
    }
   ],
   "source": [
    "import pandas\n",
    "from datetime import date, timedelta\n",
    "\n",
    "filtered_dates = []\n",
    "\n",
    "start_date = date(1901,1,1)\n",
    "end_date = date(2000,12,31)\n",
    "\n",
    "date_list = pandas.date_range(start_date,end_date-timedelta(days=1),freq='d').is_month_start\n",
    "\n",
    "for date in date_list:\n",
    "    if date == True:\n",
    "        filtered_dates.append(date)\n",
    "\n",
    "print(date_list)\n",
    "print(filtered_dates)\n",
    "\n",
    "print( for date in list = ) the first of the file is thet \n"
   ]
  },
  {
   "cell_type": "code",
   "execution_count": 64,
   "id": "0d3f7a04-8c2e-429e-b669-78f46769d70e",
   "metadata": {},
   "outputs": [
    {
     "ename": "SyntaxError",
     "evalue": "cannot assign to literal here. Maybe you meant '==' instead of '='? (3906984637.py, line 1)",
     "output_type": "error",
     "traceback": [
      "\u001b[1;36m  Cell \u001b[1;32mIn[64], line 1\u001b[1;36m\u001b[0m\n\u001b[1;33m    'day_of_year' = df[date_column].dt.dayofyear\u001b[0m\n\u001b[1;37m    ^\u001b[0m\n\u001b[1;31mSyntaxError\u001b[0m\u001b[1;31m:\u001b[0m cannot assign to literal here. Maybe you meant '==' instead of '='?\n"
     ]
    }
   ],
   "source": [
    "'day_of_year' = df[date_column].dt.dayofyear\n",
    "\n",
    "start_day = pd.to_datetime(start_date).dayofyear\n",
    "\n",
    "end_day = pd.to_datetime(end_date).dayofyear\n",
    "\n",
    "result_df = df.loc[(df['day_of_year'] >= start_day) & (df['day_of_year'] <= end_day)]"
   ]
  },
  {
   "cell_type": "code",
   "execution_count": null,
   "id": "ff50faf5-c30e-415d-ba5c-cac4360769e0",
   "metadata": {},
   "outputs": [],
   "source": []
  }
 ],
 "metadata": {
  "kernelspec": {
   "display_name": "Python 3 (ipykernel)",
   "language": "python",
   "name": "python3"
  },
  "language_info": {
   "codemirror_mode": {
    "name": "ipython",
    "version": 3
   },
   "file_extension": ".py",
   "mimetype": "text/x-python",
   "name": "python",
   "nbconvert_exporter": "python",
   "pygments_lexer": "ipython3",
   "version": "3.12.4"
  }
 },
 "nbformat": 4,
 "nbformat_minor": 5
}
